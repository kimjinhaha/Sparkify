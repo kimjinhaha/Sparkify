{
 "cells": [
  {
   "cell_type": "markdown",
   "metadata": {},
   "source": [
    "# Sparkify Project \n",
    "This workspace uses the medium sized dataset (medium-sparkify-event-data.json) on IBM Watson Studio."
   ]
  },
  {
   "cell_type": "code",
   "execution_count": 1,
   "metadata": {
    "scrolled": true
   },
   "outputs": [
    {
     "name": "stdout",
     "output_type": "stream",
     "text": [
      "Waiting for a Spark session to start...\n",
      "Spark Initialization Done! ApplicationId = app-20200410101553-0000\n",
      "KERNEL_ID = b563b727-c346-4380-aac7-0a2881196b8b\n",
      "Collecting user_agents\n",
      "  Downloading https://files.pythonhosted.org/packages/1b/be/82e4d20a7716d8e5de98b948edcecff9bb237e6718c3831bd92794fe9821/user-agents-2.1.tar.gz\n",
      "Collecting ua-parser>=0.9.0 (from user_agents)\n",
      "  Downloading https://files.pythonhosted.org/packages/9d/22/4d16b08db329fd440eed366d35e4dd7195c9babb4ecac5218f28081522a2/ua_parser-0.10.0-py2.py3-none-any.whl\n",
      "Building wheels for collected packages: user-agents\n",
      "  Building wheel for user-agents (setup.py) ... \u001b[?25ldone\n",
      "\u001b[?25h  Stored in directory: /home/spark/shared/.cache/pip/wheels/99/f3/df/12f8953cef0e59c251c6e9cf7816d202e8e778a3a928a645a6\n",
      "Successfully built user-agents\n",
      "Installing collected packages: ua-parser, user-agents\n",
      "Successfully installed ua-parser-0.10.0 user-agents-2.1\n"
     ]
    }
   ],
   "source": [
    "# import libraries\n",
    "from pyspark.sql import SparkSession\n",
    "from pyspark.sql import Window\n",
    "from pyspark.sql.functions import *\n",
    "from pyspark.sql.types import *\n",
    "\n",
    "from pyspark.ml.feature import StandardScaler, StringIndexer, VectorAssembler, OneHotEncoderEstimator\n",
    "from pyspark.ml.linalg import DenseVector, SparseVector\n",
    "from pyspark.ml import Pipeline\n",
    "from pyspark.ml.classification import LogisticRegression, RandomForestClassifier, GBTClassifier\n",
    "from pyspark.ml.tuning import CrossValidator, ParamGridBuilder\n",
    "from pyspark.ml.evaluation import RegressionEvaluator, MulticlassClassificationEvaluator, BinaryClassificationEvaluator\n",
    "\n",
    "from sklearn.metrics import classification_report, confusion_matrix\n",
    "\n",
    "import os\n",
    "import re\n",
    "import time\n",
    "import datetime\n",
    "import numpy as np\n",
    "import pandas as pd\n",
    "from matplotlib import pyplot as plt\n",
    "import seaborn as sns\n",
    "\n",
    "! pip install user_agents\n",
    "from user_agents import parse\n",
    "\n",
    "import re\n",
    "\n",
    "%matplotlib inline"
   ]
  },
  {
   "cell_type": "code",
   "execution_count": 2,
   "metadata": {},
   "outputs": [],
   "source": [
    "# display setting\n",
    "pd.set_option('display.max_rows', 999)\n",
    "pd.set_option('display.max_columns', 999)"
   ]
  },
  {
   "cell_type": "markdown",
   "metadata": {},
   "source": [
    "### Spark Session for IBM Watson Studio"
   ]
  },
  {
   "cell_type": "code",
   "execution_count": 4,
   "metadata": {},
   "outputs": [],
   "source": [
    "# create a Spark session \n",
    "spark = SparkSession \\\n",
    "    .builder \\\n",
    "    .appName('Sparkify')\\\n",
    "    .getOrCreate()"
   ]
  },
  {
   "cell_type": "code",
   "execution_count": 5,
   "metadata": {
    "scrolled": true
   },
   "outputs": [],
   "source": [
    "# all the parameter of spark Context\n",
    "# spark.sparkContext.getConf().getAll()"
   ]
  },
  {
   "cell_type": "markdown",
   "metadata": {},
   "source": [
    "# Load and Clean Dataset\n",
    "Load and clean the dataset, checking for invalid or missing data - for example, records without userids or sessionids. "
   ]
  },
  {
   "cell_type": "code",
   "execution_count": 6,
   "metadata": {},
   "outputs": [],
   "source": [
    "def load_data(path):\n",
    "    df_raw = spark.read.json(path)\n",
    "    return df_raw"
   ]
  },
  {
   "cell_type": "code",
   "execution_count": 7,
   "metadata": {},
   "outputs": [],
   "source": [
    "#path = 'medium-sparkify-event-data.json'\n",
    "path = cos.url('medium-sparkify-event-data.json', 'sparkipy-donotdelete-pr-ients3mkm9ftps')\n",
    "df_raw = load_data(path)"
   ]
  },
  {
   "cell_type": "code",
   "execution_count": 10,
   "metadata": {},
   "outputs": [
    {
     "name": "stdout",
     "output_type": "stream",
     "text": [
      "+------+\n",
      "|userId|\n",
      "+------+\n",
      "|      |\n",
      "|    10|\n",
      "|   100|\n",
      "|100001|\n",
      "|100002|\n",
      "|100003|\n",
      "|100004|\n",
      "|100005|\n",
      "|100006|\n",
      "|100007|\n",
      "|100008|\n",
      "|100009|\n",
      "|100010|\n",
      "|100011|\n",
      "|100012|\n",
      "|100013|\n",
      "|100014|\n",
      "|100015|\n",
      "|100016|\n",
      "|100017|\n",
      "+------+\n",
      "only showing top 20 rows\n",
      "\n"
     ]
    }
   ],
   "source": [
    "df_raw.select('userId').dropDuplicates().sort('userId').show() # an empty space is found here"
   ]
  },
  {
   "cell_type": "code",
   "execution_count": 8,
   "metadata": {},
   "outputs": [],
   "source": [
    "def clean_data(df_raw):\n",
    "    '''\n",
    "    Drop invalid or missing data\n",
    "    '''\n",
    "    df = df_raw.dropna(how = 'any', subset = ['userId', 'sessionId'])\n",
    "    df = df.filter(df['userId'] != '')\n",
    "    return df"
   ]
  },
  {
   "cell_type": "code",
   "execution_count": 9,
   "metadata": {},
   "outputs": [],
   "source": [
    "df = clean_data(df_raw)"
   ]
  },
  {
   "cell_type": "code",
   "execution_count": 116,
   "metadata": {},
   "outputs": [
    {
     "name": "stdout",
     "output_type": "stream",
     "text": [
      "+------+------+----+---------+------+-------------+--------+------+-----+--------+------+----+------------+---------+-----+------+---+---------+-----+------+------+-----+-------+---+------+---------+-----------+-----------+---------+-------+----------+\n",
      "|userId|artist|auth|firstName|gender|itemInSession|lastName|length|level|location|method|page|registration|sessionId| song|status| ts|userAgent|Churn|max_ts|tenure|state|browser| os|device|num_songs|num_artists|roll_advert|downgrade|upgrade|thumbsdown|\n",
      "+------+------+----+---------+------+-------------+--------+------+-----+--------+------+----+------------+---------+-----+------+---+---------+-----+------+------+-----+-------+---+------+---------+-----------+-----------+---------+-------+----------+\n",
      "|     0| 95128|   0|        0|     0|            0|       0| 95128|    0|       0|     0|   0|           0|        0|95128|     0|  0|        0|    0|     0|     0|    0|      0|  0|     0|        0|          0|          0|        0|      0|         0|\n",
      "+------+------+----+---------+------+-------------+--------+------+-----+--------+------+----+------------+---------+-----+------+---+---------+-----+------+------+-----+-------+---+------+---------+-----------+-----------+---------+-------+----------+\n",
      "\n"
     ]
    }
   ],
   "source": [
    "# check null values in each column\n",
    "df_agg = df.agg(*[count(when(isnull(c), c)).alias(c) for c in df.columns])\n",
    "df_agg.show()"
   ]
  },
  {
   "cell_type": "code",
   "execution_count": 100,
   "metadata": {},
   "outputs": [
    {
     "name": "stdout",
     "output_type": "stream",
     "text": [
      "+--------+\n",
      "|    page|\n",
      "+--------+\n",
      "|NextSong|\n",
      "+--------+\n",
      "\n"
     ]
    }
   ],
   "source": [
    "df.filter(df.song.isNotNull()).select('page').dropDuplicates().show()"
   ]
  },
  {
   "cell_type": "markdown",
   "metadata": {},
   "source": [
    "- artist, length, song are empty when the page is not 'NextSong'. These are not invalid data."
   ]
  },
  {
   "cell_type": "markdown",
   "metadata": {},
   "source": [
    "# Exploratory Data Analysis\n",
    "When you're working with the full dataset, perform EDA by loading a small subset of the data and doing basic manipulations within Spark. \n",
    "\n",
    "### Define Churn\n",
    "\n",
    "Once you've done some preliminary analysis, create a column `Churn` to use as the label for your model. I suggest using the `Cancellation Confirmation` events to define your churn, which happen for both paid and free users. As a bonus task, you can also look into the `Downgrade` events."
   ]
  },
  {
   "cell_type": "code",
   "execution_count": 10,
   "metadata": {},
   "outputs": [],
   "source": [
    "def create_label(df):\n",
    "    '''\n",
    "    Create a column 'Churn' to use as the label for the model. \n",
    "    '''\n",
    "    \n",
    "    churned_users = df.where(df.page == 'Cancellation Confirmation').select('userId').distinct()\n",
    "    churned_users_list = list(churned_users.select('userId').toPandas()['userId'])\n",
    "    df = df.withColumn('Churn', df.userId.isin(churned_users_list))\n",
    "    \n",
    "    return df"
   ]
  },
  {
   "cell_type": "code",
   "execution_count": 11,
   "metadata": {},
   "outputs": [],
   "source": [
    "df = create_label(df)"
   ]
  },
  {
   "cell_type": "code",
   "execution_count": 170,
   "metadata": {},
   "outputs": [
    {
     "name": "stdout",
     "output_type": "stream",
     "text": [
      "+-----+----------------------+\n",
      "|Churn|count(DISTINCT userId)|\n",
      "+-----+----------------------+\n",
      "| true|                    99|\n",
      "|false|                   349|\n",
      "+-----+----------------------+\n",
      "\n"
     ]
    }
   ],
   "source": [
    "df.groupby(df.Churn).agg(countDistinct('userId')).show()"
   ]
  },
  {
   "cell_type": "code",
   "execution_count": 29,
   "metadata": {},
   "outputs": [
    {
     "name": "stdout",
     "output_type": "stream",
     "text": [
      "22% of users have churned\n"
     ]
    }
   ],
   "source": [
    "print('{0:.0%} of users have churned'.format(99.0/(99+349)))"
   ]
  },
  {
   "cell_type": "markdown",
   "metadata": {},
   "source": [
    "### Explore Data\n",
    "Once you've defined churn, perform some exploratory data analysis to observe the behavior for users who stayed vs users who churned. You can start by exploring aggregates on these two groups of users, observing how much of a specific action they experienced per a certain time unit or number of songs played."
   ]
  },
  {
   "cell_type": "code",
   "execution_count": 171,
   "metadata": {},
   "outputs": [
    {
     "data": {
      "text/html": [
       "<div>\n",
       "<style scoped>\n",
       "    .dataframe tbody tr th:only-of-type {\n",
       "        vertical-align: middle;\n",
       "    }\n",
       "\n",
       "    .dataframe tbody tr th {\n",
       "        vertical-align: top;\n",
       "    }\n",
       "\n",
       "    .dataframe thead th {\n",
       "        text-align: right;\n",
       "    }\n",
       "</style>\n",
       "<table border=\"1\" class=\"dataframe\">\n",
       "  <thead>\n",
       "    <tr style=\"text-align: right;\">\n",
       "      <th></th>\n",
       "      <th>artist</th>\n",
       "      <th>auth</th>\n",
       "      <th>firstName</th>\n",
       "      <th>gender</th>\n",
       "      <th>itemInSession</th>\n",
       "      <th>lastName</th>\n",
       "      <th>length</th>\n",
       "      <th>level</th>\n",
       "      <th>location</th>\n",
       "      <th>method</th>\n",
       "      <th>page</th>\n",
       "      <th>registration</th>\n",
       "      <th>sessionId</th>\n",
       "      <th>song</th>\n",
       "      <th>status</th>\n",
       "      <th>ts</th>\n",
       "      <th>userAgent</th>\n",
       "      <th>userId</th>\n",
       "      <th>Churn</th>\n",
       "    </tr>\n",
       "  </thead>\n",
       "  <tbody>\n",
       "    <tr>\n",
       "      <td>0</td>\n",
       "      <td>Martin Orford</td>\n",
       "      <td>Logged In</td>\n",
       "      <td>Joseph</td>\n",
       "      <td>M</td>\n",
       "      <td>20</td>\n",
       "      <td>Morales</td>\n",
       "      <td>597.55057</td>\n",
       "      <td>free</td>\n",
       "      <td>Corpus Christi, TX</td>\n",
       "      <td>PUT</td>\n",
       "      <td>NextSong</td>\n",
       "      <td>1532063507000</td>\n",
       "      <td>292</td>\n",
       "      <td>Grand Designs</td>\n",
       "      <td>200</td>\n",
       "      <td>1538352011000</td>\n",
       "      <td>\"Mozilla/5.0 (Macintosh; Intel Mac OS X 10_9_4...</td>\n",
       "      <td>293</td>\n",
       "      <td>True</td>\n",
       "    </tr>\n",
       "    <tr>\n",
       "      <td>1</td>\n",
       "      <td>John Brown's Body</td>\n",
       "      <td>Logged In</td>\n",
       "      <td>Sawyer</td>\n",
       "      <td>M</td>\n",
       "      <td>74</td>\n",
       "      <td>Larson</td>\n",
       "      <td>380.21179</td>\n",
       "      <td>free</td>\n",
       "      <td>Houston-The Woodlands-Sugar Land, TX</td>\n",
       "      <td>PUT</td>\n",
       "      <td>NextSong</td>\n",
       "      <td>1538069638000</td>\n",
       "      <td>97</td>\n",
       "      <td>Bulls</td>\n",
       "      <td>200</td>\n",
       "      <td>1538352025000</td>\n",
       "      <td>\"Mozilla/5.0 (Macintosh; Intel Mac OS X 10_9_4...</td>\n",
       "      <td>98</td>\n",
       "      <td>False</td>\n",
       "    </tr>\n",
       "    <tr>\n",
       "      <td>2</td>\n",
       "      <td>Afroman</td>\n",
       "      <td>Logged In</td>\n",
       "      <td>Maverick</td>\n",
       "      <td>M</td>\n",
       "      <td>184</td>\n",
       "      <td>Santiago</td>\n",
       "      <td>202.37016</td>\n",
       "      <td>paid</td>\n",
       "      <td>Orlando-Kissimmee-Sanford, FL</td>\n",
       "      <td>PUT</td>\n",
       "      <td>NextSong</td>\n",
       "      <td>1535953455000</td>\n",
       "      <td>178</td>\n",
       "      <td>Because I Got High</td>\n",
       "      <td>200</td>\n",
       "      <td>1538352118000</td>\n",
       "      <td>\"Mozilla/5.0 (Macintosh; Intel Mac OS X 10_9_4...</td>\n",
       "      <td>179</td>\n",
       "      <td>False</td>\n",
       "    </tr>\n",
       "    <tr>\n",
       "      <td>3</td>\n",
       "      <td>None</td>\n",
       "      <td>Logged In</td>\n",
       "      <td>Maverick</td>\n",
       "      <td>M</td>\n",
       "      <td>185</td>\n",
       "      <td>Santiago</td>\n",
       "      <td>NaN</td>\n",
       "      <td>paid</td>\n",
       "      <td>Orlando-Kissimmee-Sanford, FL</td>\n",
       "      <td>PUT</td>\n",
       "      <td>Logout</td>\n",
       "      <td>1535953455000</td>\n",
       "      <td>178</td>\n",
       "      <td>None</td>\n",
       "      <td>307</td>\n",
       "      <td>1538352119000</td>\n",
       "      <td>\"Mozilla/5.0 (Macintosh; Intel Mac OS X 10_9_4...</td>\n",
       "      <td>179</td>\n",
       "      <td>False</td>\n",
       "    </tr>\n",
       "    <tr>\n",
       "      <td>4</td>\n",
       "      <td>Lily Allen</td>\n",
       "      <td>Logged In</td>\n",
       "      <td>Gianna</td>\n",
       "      <td>F</td>\n",
       "      <td>22</td>\n",
       "      <td>Campos</td>\n",
       "      <td>194.53342</td>\n",
       "      <td>paid</td>\n",
       "      <td>Mobile, AL</td>\n",
       "      <td>PUT</td>\n",
       "      <td>NextSong</td>\n",
       "      <td>1535931018000</td>\n",
       "      <td>245</td>\n",
       "      <td>Smile (Radio Edit)</td>\n",
       "      <td>200</td>\n",
       "      <td>1538352124000</td>\n",
       "      <td>Mozilla/5.0 (Windows NT 6.1; WOW64; rv:31.0) G...</td>\n",
       "      <td>246</td>\n",
       "      <td>True</td>\n",
       "    </tr>\n",
       "  </tbody>\n",
       "</table>\n",
       "</div>"
      ],
      "text/plain": [
       "              artist       auth firstName gender  itemInSession  lastName  \\\n",
       "0      Martin Orford  Logged In    Joseph      M             20   Morales   \n",
       "1  John Brown's Body  Logged In    Sawyer      M             74    Larson   \n",
       "2            Afroman  Logged In  Maverick      M            184  Santiago   \n",
       "3               None  Logged In  Maverick      M            185  Santiago   \n",
       "4         Lily Allen  Logged In    Gianna      F             22    Campos   \n",
       "\n",
       "      length level                              location method      page  \\\n",
       "0  597.55057  free                    Corpus Christi, TX    PUT  NextSong   \n",
       "1  380.21179  free  Houston-The Woodlands-Sugar Land, TX    PUT  NextSong   \n",
       "2  202.37016  paid         Orlando-Kissimmee-Sanford, FL    PUT  NextSong   \n",
       "3        NaN  paid         Orlando-Kissimmee-Sanford, FL    PUT    Logout   \n",
       "4  194.53342  paid                            Mobile, AL    PUT  NextSong   \n",
       "\n",
       "    registration  sessionId                song  status             ts  \\\n",
       "0  1532063507000        292       Grand Designs     200  1538352011000   \n",
       "1  1538069638000         97               Bulls     200  1538352025000   \n",
       "2  1535953455000        178  Because I Got High     200  1538352118000   \n",
       "3  1535953455000        178                None     307  1538352119000   \n",
       "4  1535931018000        245  Smile (Radio Edit)     200  1538352124000   \n",
       "\n",
       "                                           userAgent userId  Churn  \n",
       "0  \"Mozilla/5.0 (Macintosh; Intel Mac OS X 10_9_4...    293   True  \n",
       "1  \"Mozilla/5.0 (Macintosh; Intel Mac OS X 10_9_4...     98  False  \n",
       "2  \"Mozilla/5.0 (Macintosh; Intel Mac OS X 10_9_4...    179  False  \n",
       "3  \"Mozilla/5.0 (Macintosh; Intel Mac OS X 10_9_4...    179  False  \n",
       "4  Mozilla/5.0 (Windows NT 6.1; WOW64; rv:31.0) G...    246   True  "
      ]
     },
     "execution_count": 171,
     "metadata": {},
     "output_type": "execute_result"
    }
   ],
   "source": [
    "# first few rows\n",
    "pd.DataFrame(df.take(5), columns=df.columns).head()"
   ]
  },
  {
   "cell_type": "markdown",
   "metadata": {},
   "source": [
    "### User Attributes"
   ]
  },
  {
   "cell_type": "code",
   "execution_count": 172,
   "metadata": {},
   "outputs": [],
   "source": [
    "gender = df.groupby(df.Churn, df.gender).agg(countDistinct('userId')).toPandas()"
   ]
  },
  {
   "cell_type": "code",
   "execution_count": 173,
   "metadata": {},
   "outputs": [
    {
     "data": {
      "text/html": [
       "<div>\n",
       "<style scoped>\n",
       "    .dataframe tbody tr th:only-of-type {\n",
       "        vertical-align: middle;\n",
       "    }\n",
       "\n",
       "    .dataframe tbody tr th {\n",
       "        vertical-align: top;\n",
       "    }\n",
       "\n",
       "    .dataframe thead th {\n",
       "        text-align: right;\n",
       "    }\n",
       "</style>\n",
       "<table border=\"1\" class=\"dataframe\">\n",
       "  <thead>\n",
       "    <tr style=\"text-align: right;\">\n",
       "      <th></th>\n",
       "      <th>Churn</th>\n",
       "      <th>gender</th>\n",
       "      <th>count(DISTINCT userId)</th>\n",
       "    </tr>\n",
       "  </thead>\n",
       "  <tbody>\n",
       "    <tr>\n",
       "      <td>0</td>\n",
       "      <td>True</td>\n",
       "      <td>F</td>\n",
       "      <td>45</td>\n",
       "    </tr>\n",
       "    <tr>\n",
       "      <td>3</td>\n",
       "      <td>False</td>\n",
       "      <td>F</td>\n",
       "      <td>153</td>\n",
       "    </tr>\n",
       "    <tr>\n",
       "      <td>1</td>\n",
       "      <td>False</td>\n",
       "      <td>M</td>\n",
       "      <td>196</td>\n",
       "    </tr>\n",
       "    <tr>\n",
       "      <td>2</td>\n",
       "      <td>True</td>\n",
       "      <td>M</td>\n",
       "      <td>54</td>\n",
       "    </tr>\n",
       "  </tbody>\n",
       "</table>\n",
       "</div>"
      ],
      "text/plain": [
       "   Churn gender  count(DISTINCT userId)\n",
       "0   True      F                      45\n",
       "3  False      F                     153\n",
       "1  False      M                     196\n",
       "2   True      M                      54"
      ]
     },
     "execution_count": 173,
     "metadata": {},
     "output_type": "execute_result"
    }
   ],
   "source": [
    "gender.sort_values(by='gender') "
   ]
  },
  {
   "cell_type": "code",
   "execution_count": 175,
   "metadata": {},
   "outputs": [
    {
     "data": {
      "image/png": "[encoded data removed]",
      "text/plain": [
       "<Figure size 648x432 with 1 Axes>"
      ]
     },
     "metadata": {
      "needs_background": "light"
     },
     "output_type": "display_data"
    }
   ],
   "source": [
    "plt.rcParams[\"figure.figsize\"] = (9,6)\n",
    "gender.pivot(index='gender', columns='Churn', values = 'count(DISTINCT userId)').plot(kind='bar');"
   ]
  },
  {
   "cell_type": "markdown",
   "metadata": {},
   "source": [
    "- Female users have higher proportion of churn"
   ]
  },
  {
   "cell_type": "code",
   "execution_count": 177,
   "metadata": {},
   "outputs": [],
   "source": [
    "level = df.groupby(df.Churn, df.level).agg(countDistinct('userId')).toPandas()"
   ]
  },
  {
   "cell_type": "code",
   "execution_count": 178,
   "metadata": {},
   "outputs": [
    {
     "data": {
      "text/html": [
       "<div>\n",
       "<style scoped>\n",
       "    .dataframe tbody tr th:only-of-type {\n",
       "        vertical-align: middle;\n",
       "    }\n",
       "\n",
       "    .dataframe tbody tr th {\n",
       "        vertical-align: top;\n",
       "    }\n",
       "\n",
       "    .dataframe thead th {\n",
       "        text-align: right;\n",
       "    }\n",
       "</style>\n",
       "<table border=\"1\" class=\"dataframe\">\n",
       "  <thead>\n",
       "    <tr style=\"text-align: right;\">\n",
       "      <th></th>\n",
       "      <th>Churn</th>\n",
       "      <th>level</th>\n",
       "      <th>count(DISTINCT userId)</th>\n",
       "    </tr>\n",
       "  </thead>\n",
       "  <tbody>\n",
       "    <tr>\n",
       "      <td>0</td>\n",
       "      <td>False</td>\n",
       "      <td>free</td>\n",
       "      <td>288</td>\n",
       "    </tr>\n",
       "    <tr>\n",
       "      <td>3</td>\n",
       "      <td>True</td>\n",
       "      <td>free</td>\n",
       "      <td>82</td>\n",
       "    </tr>\n",
       "    <tr>\n",
       "      <td>1</td>\n",
       "      <td>False</td>\n",
       "      <td>paid</td>\n",
       "      <td>246</td>\n",
       "    </tr>\n",
       "    <tr>\n",
       "      <td>2</td>\n",
       "      <td>True</td>\n",
       "      <td>paid</td>\n",
       "      <td>75</td>\n",
       "    </tr>\n",
       "  </tbody>\n",
       "</table>\n",
       "</div>"
      ],
      "text/plain": [
       "   Churn level  count(DISTINCT userId)\n",
       "0  False  free                     288\n",
       "3   True  free                      82\n",
       "1  False  paid                     246\n",
       "2   True  paid                      75"
      ]
     },
     "execution_count": 178,
     "metadata": {},
     "output_type": "execute_result"
    }
   ],
   "source": [
    "level.sort_values(by='level')"
   ]
  },
  {
   "cell_type": "code",
   "execution_count": 179,
   "metadata": {},
   "outputs": [
    {
     "data": {
      "image/png": "[encoded data removed]",
      "text/plain": [
       "<Figure size 648x432 with 1 Axes>"
      ]
     },
     "metadata": {
      "needs_background": "light"
     },
     "output_type": "display_data"
    }
   ],
   "source": [
    "plt.rcParams[\"figure.figsize\"] = (9,6)\n",
    "level.pivot(index='level', columns='Churn', values = 'count(DISTINCT userId)').plot(kind='bar');"
   ]
  },
  {
   "cell_type": "markdown",
   "metadata": {},
   "source": [
    "- Paid users have higher proportion of churn than free users"
   ]
  },
  {
   "cell_type": "markdown",
   "metadata": {},
   "source": [
    "### Activities\n",
    "- Exploring activitiy-related variables aggregated on label (churn)"
   ]
  },
  {
   "cell_type": "code",
   "execution_count": 180,
   "metadata": {},
   "outputs": [
    {
     "name": "stdout",
     "output_type": "stream",
     "text": [
      "+-----+---------+-------------------------+\n",
      "|Churn|     auth|count(DISTINCT sessionId)|\n",
      "+-----+---------+-------------------------+\n",
      "| true|Cancelled|                       97|\n",
      "|false|Logged In|                     3861|\n",
      "| true|Logged In|                     1072|\n",
      "+-----+---------+-------------------------+\n",
      "\n"
     ]
    }
   ],
   "source": [
    "df.groupby(df.Churn, df.auth).agg(countDistinct('sessionId')).show()"
   ]
  },
  {
   "cell_type": "code",
   "execution_count": 181,
   "metadata": {},
   "outputs": [
    {
     "name": "stdout",
     "output_type": "stream",
     "text": [
      "+-----+------------------+\n",
      "|Churn|avg(itemInSession)|\n",
      "+-----+------------------+\n",
      "| true| 107.5093008895664|\n",
      "|false|107.84486484321059|\n",
      "+-----+------------------+\n",
      "\n"
     ]
    }
   ],
   "source": [
    "df.groupby(df.Churn).agg(avg('itemInSession')).show()"
   ]
  },
  {
   "cell_type": "code",
   "execution_count": 182,
   "metadata": {},
   "outputs": [
    {
     "name": "stdout",
     "output_type": "stream",
     "text": [
      "+-----+------------------+\n",
      "|Churn|       avg(length)|\n",
      "+-----+------------------+\n",
      "| true| 248.9939836060161|\n",
      "|false|248.58486352452493|\n",
      "+-----+------------------+\n",
      "\n"
     ]
    }
   ],
   "source": [
    "df.groupby(df.Churn).agg(avg('length')).show()"
   ]
  },
  {
   "cell_type": "code",
   "execution_count": 183,
   "metadata": {},
   "outputs": [
    {
     "name": "stdout",
     "output_type": "stream",
     "text": [
      "+-----+------+-------------------------+\n",
      "|Churn|method|count(DISTINCT sessionId)|\n",
      "+-----+------+-------------------------+\n",
      "|false|   PUT|                     3791|\n",
      "| true|   PUT|                     1046|\n",
      "|false|   GET|                     3683|\n",
      "| true|   GET|                     1028|\n",
      "+-----+------+-------------------------+\n",
      "\n"
     ]
    }
   ],
   "source": [
    "df.groupby(df.Churn, df.method).agg(countDistinct('sessionId')).show()"
   ]
  },
  {
   "cell_type": "code",
   "execution_count": 184,
   "metadata": {},
   "outputs": [],
   "source": [
    "page = df.groupby(df.page, df.Churn).agg(countDistinct('sessionId')).sort('page', 'Churn').toPandas()"
   ]
  },
  {
   "cell_type": "code",
   "execution_count": 185,
   "metadata": {},
   "outputs": [
    {
     "data": {
      "image/png": "[encoded data removed]",
      "text/plain": [
       "<Figure size 1440x216 with 1 Axes>"
      ]
     },
     "metadata": {
      "needs_background": "light"
     },
     "output_type": "display_data"
    }
   ],
   "source": [
    "plt.rcParams[\"figure.figsize\"] = (20,3)\n",
    "page.pivot(index='page', columns='Churn', values = 'count(DISTINCT sessionId)').plot(kind='bar');"
   ]
  },
  {
   "cell_type": "code",
   "execution_count": 186,
   "metadata": {},
   "outputs": [],
   "source": [
    "pagedf = page.groupby(['page', 'Churn'])['count(DISTINCT sessionId)'].sum()\n",
    "page_pcts = pagedf.groupby(level=0).apply(lambda x: 100 * x / float(x.sum()))"
   ]
  },
  {
   "cell_type": "code",
   "execution_count": 187,
   "metadata": {},
   "outputs": [
    {
     "data": {
      "text/plain": [
       "page                       Churn\n",
       "About                      False     81.084337\n",
       "                           True      18.915663\n",
       "Add Friend                 False     79.658385\n",
       "                           True      20.341615\n",
       "Add to Playlist            False     79.591232\n",
       "                           True      20.408768\n",
       "Cancel                     True     100.000000\n",
       "Cancellation Confirmation  True     100.000000\n",
       "Downgrade                  False     79.431818\n",
       "                           True      20.568182\n",
       "Error                      False     81.431767\n",
       "                           True      18.568233\n",
       "Help                       False     79.854369\n",
       "                           True      20.145631\n",
       "Home                       False     78.470320\n",
       "                           True      21.529680\n",
       "Logout                     False     79.030595\n",
       "                           True      20.969405\n",
       "NextSong                   False     78.337479\n",
       "                           True      21.662521\n",
       "Roll Advert                False     75.011922\n",
       "                           True      24.988078\n",
       "Save Settings              False     81.800391\n",
       "                           True      18.199609\n",
       "Settings                   False     78.817451\n",
       "                           True      21.182549\n",
       "Submit Downgrade           False     75.862069\n",
       "                           True      24.137931\n",
       "Submit Upgrade             False     75.704225\n",
       "                           True      24.295775\n",
       "Thumbs Down                False     77.507599\n",
       "                           True      22.492401\n",
       "Thumbs Up                  False     78.679681\n",
       "                           True      21.320319\n",
       "Upgrade                    False     74.216524\n",
       "                           True      25.783476\n",
       "Name: count(DISTINCT sessionId), dtype: float64"
      ]
     },
     "execution_count": 187,
     "metadata": {},
     "output_type": "execute_result"
    }
   ],
   "source": [
    "page_pcts"
   ]
  },
  {
   "cell_type": "markdown",
   "metadata": {},
   "source": [
    "- Difficult to see a clear relationship between visited page and churn\n",
    "- Roll Avert, Submit Downgrade/Upgrade, Thumbs down, Upgrade seem to have stronger relationship with Churn than other page visits"
   ]
  },
  {
   "cell_type": "markdown",
   "metadata": {},
   "source": [
    "# Feature Engineering\n",
    "Once you've familiarized yourself with the data, build out the features you find promising to train your model on. To work with the full dataset, you can follow the following steps.\n",
    "- Write a script to extract the necessary features from the smaller subset of data\n",
    "- Ensure that your script is scalable, using the best practices discussed in Lesson 3\n",
    "- Try your script on the full data set, debugging your script if necessary\n",
    "\n",
    "If you are working in the classroom workspace, you can just extract features based on the small subset of data contained here. Be sure to transfer over this work to the larger dataset when you work on your Spark cluster."
   ]
  },
  {
   "cell_type": "code",
   "execution_count": 12,
   "metadata": {},
   "outputs": [],
   "source": [
    "## Functions for feature engineering  \n",
    "\n",
    "def generate_int_label(df):\n",
    "    df = df.withColumn('label', df['Churn'].cast(IntegerType()))\n",
    "    return df\n",
    "\n",
    "def calculate_tenure(df):\n",
    "    '''\n",
    "    Calculate tenure: the last interacted date - registration date\n",
    "    '''\n",
    "    max_ts_df = df.groupBy('userId').agg(max('ts').alias('max_ts'))\n",
    "    df = df.join(max_ts_df, on=['userId'], how = 'left')\n",
    "    df = df.withColumn('tenure', ((df.max_ts-df.registration)/86400000).cast(IntegerType()))    \n",
    "    \n",
    "    return df\n",
    "\n",
    "def create_state_variable(df):\n",
    "    '''\n",
    "    Create State from location\n",
    "    '''\n",
    "    get_state = udf(lambda x: x.split(',')[1])\n",
    "    df = df.withColumn('state', get_state(df.location))\n",
    "\n",
    "    return df\n",
    "\n",
    "def create_device_variables(df):\n",
    "    \n",
    "    get_browser = udf(lambda x: parse(x).browser.family)\n",
    "    get_os = udf(lambda x: parse(x).os.family)\n",
    "    get_device = udf(lambda x: parse(x).device.family)\n",
    "    df = df.withColumn('browser', get_browser(df.userAgent))\n",
    "    df = df.withColumn('os', get_os(df.userAgent))\n",
    "    df = df.withColumn('device', get_device(df.userAgent))\n",
    "    \n",
    "    return df\n",
    "\n",
    "def calculate_user_stats(df):\n",
    "    '''\n",
    "    Create user level stats\n",
    "    '''\n",
    "    w = Window.partitionBy(df.userId)\n",
    "    df = df.withColumn('num_songs', approx_count_distinct(df.song).over(w))\n",
    "    df = df.withColumn('num_artists', approx_count_distinct(df.artist).over(w))\n",
    "    df = df.withColumn('avg_length', avg(df.length).over(w))\n",
    "    \n",
    "    return df    \n",
    "\n",
    "def create_page_variables(df):\n",
    "    '''\n",
    "    Based on EDA, create variables indicating if a user visited specific pages\n",
    "    In addition to the pages that show stronger relationship with churn, \n",
    "    we will make variables for Add Friend and Add to Playlist page visits\n",
    "    '''\n",
    "    \n",
    "    RollAdvert = df.where(df.page == 'Roll Advert').select('userId').distinct()\n",
    "    RollAdvert_list = list(RollAdvert.select('userId').toPandas()['userId'])\n",
    "    df = df.withColumn('roll_advert', df.userId.isin(RollAdvert_list))\n",
    "    \n",
    "    Downgrade = df.where(df.page == 'Submit Downgrade').select('userId').distinct()\n",
    "    Downgrade_list = list(Downgrade.select('userId').toPandas()['userId'])\n",
    "    df = df.withColumn('downgrade', df.userId.isin(Downgrade_list))\n",
    "    \n",
    "    Upgrade = df.where(df.page == 'Submit Upgrade').select('userId').distinct()\n",
    "    Upgrade_list = list(Upgrade.select('userId').toPandas()['userId'])\n",
    "    df = df.withColumn('upgrade', df.userId.isin(Upgrade_list))\n",
    "   \n",
    "    Thumbsdown = df.where(df.page == 'Thumbs Down').select('userId').distinct()\n",
    "    Thumbsdown_list = list(Thumbsdown.select('userId').toPandas()['userId'])\n",
    "    df = df.withColumn('thumbsdown', df.userId.isin(Thumbsdown_list))\n",
    "    \n",
    "    AddFriend = df.where(df.page == 'Add Friend').select('userId').distinct()\n",
    "    AddFriend_list = list(AddFriend.select('userId').toPandas()['userId'])\n",
    "    df = df.withColumn('addfriend', df.userId.isin(AddFriend_list))\n",
    "    \n",
    "    AddtoPlaylist = df.where(df.page == 'Add to Playlist').select('userId').distinct()\n",
    "    AddtoPlaylist_list = list(AddtoPlaylist.select('userId').toPandas()['userId'])\n",
    "    df = df.withColumn('addtoplaylist', df.userId.isin(AddtoPlaylist_list))\n",
    "    \n",
    "    return df"
   ]
  },
  {
   "cell_type": "code",
   "execution_count": 13,
   "metadata": {},
   "outputs": [],
   "source": [
    "df = generate_int_label(df)\n",
    "df = calculate_tenure(df)\n",
    "df = create_state_variable(df)\n",
    "df = create_device_variables(df)\n",
    "df = calculate_user_stats(df)\n",
    "df = create_page_variables(df)"
   ]
  },
  {
   "cell_type": "code",
   "execution_count": 17,
   "metadata": {},
   "outputs": [
    {
     "data": {
      "text/html": [
       "<div>\n",
       "<style scoped>\n",
       "    .dataframe tbody tr th:only-of-type {\n",
       "        vertical-align: middle;\n",
       "    }\n",
       "\n",
       "    .dataframe tbody tr th {\n",
       "        vertical-align: top;\n",
       "    }\n",
       "\n",
       "    .dataframe thead th {\n",
       "        text-align: right;\n",
       "    }\n",
       "</style>\n",
       "<table border=\"1\" class=\"dataframe\">\n",
       "  <thead>\n",
       "    <tr style=\"text-align: right;\">\n",
       "      <th></th>\n",
       "      <th>userId</th>\n",
       "      <th>artist</th>\n",
       "      <th>auth</th>\n",
       "      <th>firstName</th>\n",
       "      <th>gender</th>\n",
       "      <th>itemInSession</th>\n",
       "      <th>lastName</th>\n",
       "      <th>length</th>\n",
       "      <th>level</th>\n",
       "      <th>location</th>\n",
       "      <th>method</th>\n",
       "      <th>page</th>\n",
       "      <th>registration</th>\n",
       "      <th>sessionId</th>\n",
       "      <th>song</th>\n",
       "      <th>status</th>\n",
       "      <th>ts</th>\n",
       "      <th>userAgent</th>\n",
       "      <th>Churn</th>\n",
       "      <th>label</th>\n",
       "      <th>max_ts</th>\n",
       "      <th>tenure</th>\n",
       "      <th>state</th>\n",
       "      <th>browser</th>\n",
       "      <th>os</th>\n",
       "      <th>device</th>\n",
       "      <th>num_songs</th>\n",
       "      <th>num_artists</th>\n",
       "      <th>avg_length</th>\n",
       "      <th>roll_advert</th>\n",
       "      <th>downgrade</th>\n",
       "      <th>upgrade</th>\n",
       "      <th>thumbsdown</th>\n",
       "      <th>addfriend</th>\n",
       "      <th>addtoplaylist</th>\n",
       "    </tr>\n",
       "  </thead>\n",
       "  <tbody>\n",
       "    <tr>\n",
       "      <th>0</th>\n",
       "      <td>100010</td>\n",
       "      <td>Darude</td>\n",
       "      <td>Logged In</td>\n",
       "      <td>Darianna</td>\n",
       "      <td>F</td>\n",
       "      <td>0</td>\n",
       "      <td>Carpenter</td>\n",
       "      <td>226.08934</td>\n",
       "      <td>free</td>\n",
       "      <td>Bridgeport-Stamford-Norwalk, CT</td>\n",
       "      <td>PUT</td>\n",
       "      <td>NextSong</td>\n",
       "      <td>1538016340000</td>\n",
       "      <td>62</td>\n",
       "      <td>Sandstorm</td>\n",
       "      <td>200</td>\n",
       "      <td>1538991392000</td>\n",
       "      <td>\"Mozilla/5.0 (iPhone; CPU iPhone OS 7_1_2 like...</td>\n",
       "      <td>True</td>\n",
       "      <td>1</td>\n",
       "      <td>1539254318000</td>\n",
       "      <td>14</td>\n",
       "      <td>CT</td>\n",
       "      <td>Mobile Safari</td>\n",
       "      <td>iOS</td>\n",
       "      <td>iPhone</td>\n",
       "      <td>99</td>\n",
       "      <td>92</td>\n",
       "      <td>269.48907</td>\n",
       "      <td>True</td>\n",
       "      <td>False</td>\n",
       "      <td>False</td>\n",
       "      <td>True</td>\n",
       "      <td>True</td>\n",
       "      <td>True</td>\n",
       "    </tr>\n",
       "    <tr>\n",
       "      <th>1</th>\n",
       "      <td>100010</td>\n",
       "      <td>Justice</td>\n",
       "      <td>Logged In</td>\n",
       "      <td>Darianna</td>\n",
       "      <td>F</td>\n",
       "      <td>1</td>\n",
       "      <td>Carpenter</td>\n",
       "      <td>285.41342</td>\n",
       "      <td>free</td>\n",
       "      <td>Bridgeport-Stamford-Norwalk, CT</td>\n",
       "      <td>PUT</td>\n",
       "      <td>NextSong</td>\n",
       "      <td>1538016340000</td>\n",
       "      <td>62</td>\n",
       "      <td>Phantom Part 1.5 (Album Version)</td>\n",
       "      <td>200</td>\n",
       "      <td>1538991618000</td>\n",
       "      <td>\"Mozilla/5.0 (iPhone; CPU iPhone OS 7_1_2 like...</td>\n",
       "      <td>True</td>\n",
       "      <td>1</td>\n",
       "      <td>1539254318000</td>\n",
       "      <td>14</td>\n",
       "      <td>CT</td>\n",
       "      <td>Mobile Safari</td>\n",
       "      <td>iOS</td>\n",
       "      <td>iPhone</td>\n",
       "      <td>99</td>\n",
       "      <td>92</td>\n",
       "      <td>269.48907</td>\n",
       "      <td>True</td>\n",
       "      <td>False</td>\n",
       "      <td>False</td>\n",
       "      <td>True</td>\n",
       "      <td>True</td>\n",
       "      <td>True</td>\n",
       "    </tr>\n",
       "    <tr>\n",
       "      <th>2</th>\n",
       "      <td>100010</td>\n",
       "      <td>Five Iron Frenzy</td>\n",
       "      <td>Logged In</td>\n",
       "      <td>Darianna</td>\n",
       "      <td>F</td>\n",
       "      <td>2</td>\n",
       "      <td>Carpenter</td>\n",
       "      <td>236.09424</td>\n",
       "      <td>free</td>\n",
       "      <td>Bridgeport-Stamford-Norwalk, CT</td>\n",
       "      <td>PUT</td>\n",
       "      <td>NextSong</td>\n",
       "      <td>1538016340000</td>\n",
       "      <td>62</td>\n",
       "      <td>Canada</td>\n",
       "      <td>200</td>\n",
       "      <td>1538991903000</td>\n",
       "      <td>\"Mozilla/5.0 (iPhone; CPU iPhone OS 7_1_2 like...</td>\n",
       "      <td>True</td>\n",
       "      <td>1</td>\n",
       "      <td>1539254318000</td>\n",
       "      <td>14</td>\n",
       "      <td>CT</td>\n",
       "      <td>Mobile Safari</td>\n",
       "      <td>iOS</td>\n",
       "      <td>iPhone</td>\n",
       "      <td>99</td>\n",
       "      <td>92</td>\n",
       "      <td>269.48907</td>\n",
       "      <td>True</td>\n",
       "      <td>False</td>\n",
       "      <td>False</td>\n",
       "      <td>True</td>\n",
       "      <td>True</td>\n",
       "      <td>True</td>\n",
       "    </tr>\n",
       "    <tr>\n",
       "      <th>3</th>\n",
       "      <td>100010</td>\n",
       "      <td>Carpenters</td>\n",
       "      <td>Logged In</td>\n",
       "      <td>Darianna</td>\n",
       "      <td>F</td>\n",
       "      <td>3</td>\n",
       "      <td>Carpenter</td>\n",
       "      <td>250.25261</td>\n",
       "      <td>free</td>\n",
       "      <td>Bridgeport-Stamford-Norwalk, CT</td>\n",
       "      <td>PUT</td>\n",
       "      <td>NextSong</td>\n",
       "      <td>1538016340000</td>\n",
       "      <td>62</td>\n",
       "      <td>Ticket To Ride</td>\n",
       "      <td>200</td>\n",
       "      <td>1538992139000</td>\n",
       "      <td>\"Mozilla/5.0 (iPhone; CPU iPhone OS 7_1_2 like...</td>\n",
       "      <td>True</td>\n",
       "      <td>1</td>\n",
       "      <td>1539254318000</td>\n",
       "      <td>14</td>\n",
       "      <td>CT</td>\n",
       "      <td>Mobile Safari</td>\n",
       "      <td>iOS</td>\n",
       "      <td>iPhone</td>\n",
       "      <td>99</td>\n",
       "      <td>92</td>\n",
       "      <td>269.48907</td>\n",
       "      <td>True</td>\n",
       "      <td>False</td>\n",
       "      <td>False</td>\n",
       "      <td>True</td>\n",
       "      <td>True</td>\n",
       "      <td>True</td>\n",
       "    </tr>\n",
       "    <tr>\n",
       "      <th>4</th>\n",
       "      <td>100010</td>\n",
       "      <td>Uffie</td>\n",
       "      <td>Logged In</td>\n",
       "      <td>Darianna</td>\n",
       "      <td>F</td>\n",
       "      <td>4</td>\n",
       "      <td>Carpenter</td>\n",
       "      <td>227.52608</td>\n",
       "      <td>free</td>\n",
       "      <td>Bridgeport-Stamford-Norwalk, CT</td>\n",
       "      <td>PUT</td>\n",
       "      <td>NextSong</td>\n",
       "      <td>1538016340000</td>\n",
       "      <td>62</td>\n",
       "      <td>Dismissed (Uffie)</td>\n",
       "      <td>200</td>\n",
       "      <td>1538992389000</td>\n",
       "      <td>\"Mozilla/5.0 (iPhone; CPU iPhone OS 7_1_2 like...</td>\n",
       "      <td>True</td>\n",
       "      <td>1</td>\n",
       "      <td>1539254318000</td>\n",
       "      <td>14</td>\n",
       "      <td>CT</td>\n",
       "      <td>Mobile Safari</td>\n",
       "      <td>iOS</td>\n",
       "      <td>iPhone</td>\n",
       "      <td>99</td>\n",
       "      <td>92</td>\n",
       "      <td>269.48907</td>\n",
       "      <td>True</td>\n",
       "      <td>False</td>\n",
       "      <td>False</td>\n",
       "      <td>True</td>\n",
       "      <td>True</td>\n",
       "      <td>True</td>\n",
       "    </tr>\n",
       "  </tbody>\n",
       "</table>\n",
       "</div>"
      ],
      "text/plain": [
       "   userId            artist       auth firstName gender  itemInSession  \\\n",
       "0  100010            Darude  Logged In  Darianna      F              0   \n",
       "1  100010           Justice  Logged In  Darianna      F              1   \n",
       "2  100010  Five Iron Frenzy  Logged In  Darianna      F              2   \n",
       "3  100010        Carpenters  Logged In  Darianna      F              3   \n",
       "4  100010             Uffie  Logged In  Darianna      F              4   \n",
       "\n",
       "    lastName     length level                         location method  \\\n",
       "0  Carpenter  226.08934  free  Bridgeport-Stamford-Norwalk, CT    PUT   \n",
       "1  Carpenter  285.41342  free  Bridgeport-Stamford-Norwalk, CT    PUT   \n",
       "2  Carpenter  236.09424  free  Bridgeport-Stamford-Norwalk, CT    PUT   \n",
       "3  Carpenter  250.25261  free  Bridgeport-Stamford-Norwalk, CT    PUT   \n",
       "4  Carpenter  227.52608  free  Bridgeport-Stamford-Norwalk, CT    PUT   \n",
       "\n",
       "       page   registration  sessionId                              song  \\\n",
       "0  NextSong  1538016340000         62                         Sandstorm   \n",
       "1  NextSong  1538016340000         62  Phantom Part 1.5 (Album Version)   \n",
       "2  NextSong  1538016340000         62                            Canada   \n",
       "3  NextSong  1538016340000         62                    Ticket To Ride   \n",
       "4  NextSong  1538016340000         62                 Dismissed (Uffie)   \n",
       "\n",
       "   status             ts                                          userAgent  \\\n",
       "0     200  1538991392000  \"Mozilla/5.0 (iPhone; CPU iPhone OS 7_1_2 like...   \n",
       "1     200  1538991618000  \"Mozilla/5.0 (iPhone; CPU iPhone OS 7_1_2 like...   \n",
       "2     200  1538991903000  \"Mozilla/5.0 (iPhone; CPU iPhone OS 7_1_2 like...   \n",
       "3     200  1538992139000  \"Mozilla/5.0 (iPhone; CPU iPhone OS 7_1_2 like...   \n",
       "4     200  1538992389000  \"Mozilla/5.0 (iPhone; CPU iPhone OS 7_1_2 like...   \n",
       "\n",
       "   Churn  label         max_ts  tenure state        browser   os  device  \\\n",
       "0   True      1  1539254318000      14    CT  Mobile Safari  iOS  iPhone   \n",
       "1   True      1  1539254318000      14    CT  Mobile Safari  iOS  iPhone   \n",
       "2   True      1  1539254318000      14    CT  Mobile Safari  iOS  iPhone   \n",
       "3   True      1  1539254318000      14    CT  Mobile Safari  iOS  iPhone   \n",
       "4   True      1  1539254318000      14    CT  Mobile Safari  iOS  iPhone   \n",
       "\n",
       "   num_songs  num_artists  avg_length  roll_advert  downgrade  upgrade  \\\n",
       "0         99           92   269.48907         True      False    False   \n",
       "1         99           92   269.48907         True      False    False   \n",
       "2         99           92   269.48907         True      False    False   \n",
       "3         99           92   269.48907         True      False    False   \n",
       "4         99           92   269.48907         True      False    False   \n",
       "\n",
       "   thumbsdown  addfriend  addtoplaylist  \n",
       "0        True       True           True  \n",
       "1        True       True           True  \n",
       "2        True       True           True  \n",
       "3        True       True           True  \n",
       "4        True       True           True  "
      ]
     },
     "execution_count": 17,
     "metadata": {},
     "output_type": "execute_result"
    }
   ],
   "source": [
    "pd.DataFrame(df.take(5), columns=df.columns).head()"
   ]
  },
  {
   "cell_type": "code",
   "execution_count": 14,
   "metadata": {},
   "outputs": [],
   "source": [
    "def drop_columns(df):\n",
    "    '''\n",
    "    Drop unnecessary columns before modeling\n",
    "    '''\n",
    "    columns_to_drop = ['userId', 'artist', 'auth', 'firstName', 'itemInSession', 'lastName', 'length', 'location', 'method', 'page', 'registration', 'sessionId', 'song', 'status',\n",
    "                       'ts', 'userAgent', 'max_ts', 'Churn']\n",
    "    \n",
    "    df = df.drop(*columns_to_drop) \n",
    "    \n",
    "    return df"
   ]
  },
  {
   "cell_type": "code",
   "execution_count": 15,
   "metadata": {},
   "outputs": [],
   "source": [
    "df_model = drop_columns(df)"
   ]
  },
  {
   "cell_type": "code",
   "execution_count": 18,
   "metadata": {
    "scrolled": true
   },
   "outputs": [
    {
     "data": {
      "text/html": [
       "<div>\n",
       "<style scoped>\n",
       "    .dataframe tbody tr th:only-of-type {\n",
       "        vertical-align: middle;\n",
       "    }\n",
       "\n",
       "    .dataframe tbody tr th {\n",
       "        vertical-align: top;\n",
       "    }\n",
       "\n",
       "    .dataframe thead th {\n",
       "        text-align: right;\n",
       "    }\n",
       "</style>\n",
       "<table border=\"1\" class=\"dataframe\">\n",
       "  <thead>\n",
       "    <tr style=\"text-align: right;\">\n",
       "      <th></th>\n",
       "      <th>gender</th>\n",
       "      <th>level</th>\n",
       "      <th>label</th>\n",
       "      <th>tenure</th>\n",
       "      <th>state</th>\n",
       "      <th>browser</th>\n",
       "      <th>os</th>\n",
       "      <th>device</th>\n",
       "      <th>num_songs</th>\n",
       "      <th>num_artists</th>\n",
       "      <th>avg_length</th>\n",
       "      <th>roll_advert</th>\n",
       "      <th>downgrade</th>\n",
       "      <th>upgrade</th>\n",
       "      <th>thumbsdown</th>\n",
       "      <th>addfriend</th>\n",
       "      <th>addtoplaylist</th>\n",
       "    </tr>\n",
       "  </thead>\n",
       "  <tbody>\n",
       "    <tr>\n",
       "      <th>0</th>\n",
       "      <td>M</td>\n",
       "      <td>paid</td>\n",
       "      <td>0</td>\n",
       "      <td>88</td>\n",
       "      <td>FL</td>\n",
       "      <td>Chrome</td>\n",
       "      <td>Mac OS X</td>\n",
       "      <td>Mac</td>\n",
       "      <td>1761</td>\n",
       "      <td>1349</td>\n",
       "      <td>248.779381</td>\n",
       "      <td>True</td>\n",
       "      <td>False</td>\n",
       "      <td>False</td>\n",
       "      <td>True</td>\n",
       "      <td>True</td>\n",
       "      <td>True</td>\n",
       "    </tr>\n",
       "    <tr>\n",
       "      <th>1</th>\n",
       "      <td>F</td>\n",
       "      <td>paid</td>\n",
       "      <td>0</td>\n",
       "      <td>61</td>\n",
       "      <td>KS</td>\n",
       "      <td>IE</td>\n",
       "      <td>Windows</td>\n",
       "      <td>Other</td>\n",
       "      <td>2729</td>\n",
       "      <td>2123</td>\n",
       "      <td>245.290129</td>\n",
       "      <td>True</td>\n",
       "      <td>False</td>\n",
       "      <td>True</td>\n",
       "      <td>True</td>\n",
       "      <td>True</td>\n",
       "      <td>True</td>\n",
       "    </tr>\n",
       "    <tr>\n",
       "      <th>2</th>\n",
       "      <td>F</td>\n",
       "      <td>paid</td>\n",
       "      <td>1</td>\n",
       "      <td>63</td>\n",
       "      <td>AL</td>\n",
       "      <td>Firefox</td>\n",
       "      <td>Windows</td>\n",
       "      <td>Other</td>\n",
       "      <td>2579</td>\n",
       "      <td>1870</td>\n",
       "      <td>251.601132</td>\n",
       "      <td>True</td>\n",
       "      <td>True</td>\n",
       "      <td>True</td>\n",
       "      <td>True</td>\n",
       "      <td>True</td>\n",
       "      <td>True</td>\n",
       "    </tr>\n",
       "    <tr>\n",
       "      <th>3</th>\n",
       "      <td>M</td>\n",
       "      <td>paid</td>\n",
       "      <td>0</td>\n",
       "      <td>76</td>\n",
       "      <td>TN</td>\n",
       "      <td>Chrome</td>\n",
       "      <td>Mac OS X</td>\n",
       "      <td>Mac</td>\n",
       "      <td>3637</td>\n",
       "      <td>2464</td>\n",
       "      <td>249.914483</td>\n",
       "      <td>True</td>\n",
       "      <td>True</td>\n",
       "      <td>True</td>\n",
       "      <td>True</td>\n",
       "      <td>True</td>\n",
       "      <td>True</td>\n",
       "    </tr>\n",
       "    <tr>\n",
       "      <th>4</th>\n",
       "      <td>M</td>\n",
       "      <td>free</td>\n",
       "      <td>0</td>\n",
       "      <td>390</td>\n",
       "      <td>LA</td>\n",
       "      <td>IE</td>\n",
       "      <td>Windows</td>\n",
       "      <td>Other</td>\n",
       "      <td>309</td>\n",
       "      <td>288</td>\n",
       "      <td>254.014158</td>\n",
       "      <td>True</td>\n",
       "      <td>False</td>\n",
       "      <td>False</td>\n",
       "      <td>True</td>\n",
       "      <td>True</td>\n",
       "      <td>True</td>\n",
       "    </tr>\n",
       "  </tbody>\n",
       "</table>\n",
       "</div>"
      ],
      "text/plain": [
       "  gender level  label  tenure state  browser        os device  num_songs  \\\n",
       "0      M  paid      0      88    FL   Chrome  Mac OS X    Mac       1761   \n",
       "1      F  paid      0      61    KS       IE   Windows  Other       2729   \n",
       "2      F  paid      1      63    AL  Firefox   Windows  Other       2579   \n",
       "3      M  paid      0      76    TN   Chrome  Mac OS X    Mac       3637   \n",
       "4      M  free      0     390    LA       IE   Windows  Other        309   \n",
       "\n",
       "   num_artists  avg_length  roll_advert  downgrade  upgrade  thumbsdown  \\\n",
       "0         1349  248.779381         True      False    False        True   \n",
       "1         2123  245.290129         True      False     True        True   \n",
       "2         1870  251.601132         True       True     True        True   \n",
       "3         2464  249.914483         True       True     True        True   \n",
       "4          288  254.014158         True      False    False        True   \n",
       "\n",
       "   addfriend  addtoplaylist  \n",
       "0       True           True  \n",
       "1       True           True  \n",
       "2       True           True  \n",
       "3       True           True  \n",
       "4       True           True  "
      ]
     },
     "execution_count": 18,
     "metadata": {},
     "output_type": "execute_result"
    }
   ],
   "source": [
    "pd.DataFrame(df_model.orderBy(rand()).take(5), columns=df_model.columns)"
   ]
  },
  {
   "cell_type": "markdown",
   "metadata": {},
   "source": [
    "# Modeling\n",
    "Split the full dataset into train, test, and validation sets. Test out several of the machine learning methods you learned. Evaluate the accuracy of the various models, tuning parameters as necessary. Determine your winning model based on test accuracy and report results on the validation set. Since the churned users are a fairly small subset, I suggest using F1 score as the metric to optimize."
   ]
  },
  {
   "cell_type": "markdown",
   "metadata": {},
   "source": [
    "### Step 1. Train, Test Split (80%, 20%)"
   ]
  },
  {
   "cell_type": "code",
   "execution_count": 19,
   "metadata": {},
   "outputs": [],
   "source": [
    "train, test = df_model.randomSplit([0.8, 0.2], seed=42)"
   ]
  },
  {
   "cell_type": "code",
   "execution_count": 25,
   "metadata": {},
   "outputs": [
    {
     "name": "stdout",
     "output_type": "stream",
     "text": [
      "422492 17\n",
      "105513 17\n"
     ]
    }
   ],
   "source": [
    "# get the dimensions of the data\n",
    "print(train.count(), len(train.columns))\n",
    "print(test.count(), len(test.columns))"
   ]
  },
  {
   "cell_type": "markdown",
   "metadata": {},
   "source": [
    "### Step 2. Build Pipeline - Logistic regression, Random Forest, Gradient-Boosted Trees"
   ]
  },
  {
   "cell_type": "code",
   "execution_count": 20,
   "metadata": {},
   "outputs": [],
   "source": [
    "# String Indexer for OneHotEncoderEstimator\n",
    "SI_gender = StringIndexer(inputCol='gender', outputCol='gender_index')\n",
    "SI_level = StringIndexer(inputCol='level', outputCol='level_index')\n",
    "SI_state = StringIndexer(inputCol='state', outputCol='state_index')\n",
    "SI_browser = StringIndexer(inputCol='browser', outputCol='browser_index')\n",
    "SI_os =  StringIndexer(inputCol='os', outputCol='os_index')\n",
    "SI_device= StringIndexer(inputCol='device', outputCol='device_index')\n",
    "\n",
    "# OneHotEncoderEstimator\n",
    "OHE = OneHotEncoderEstimator(inputCols=['gender_index', 'level_index', 'state_index', 'browser_index', 'os_index', 'device_index'],\n",
    "                             outputCols=['gender_OHE', 'level_OHE', 'state_OHE', 'browser_OHE', 'os_OHE', 'device_OHE'])\n",
    "\n",
    "# Create a vector of all numeric features for scaling\n",
    "num_assembler = VectorAssembler(inputCols=['tenure', 'num_songs', 'num_artists', 'avg_length'], outputCol='NumFeatures')\n",
    "\n",
    "# Standard scaler for numeric features\n",
    "scaler = StandardScaler(inputCol='NumFeatures', outputCol='ScaledNumFeatures', withStd=True)\n",
    "\n",
    "# Create a vector of all features for modeling\n",
    "feature_assembler = VectorAssembler(inputCols=['ScaledNumFeatures', 'gender_OHE', 'level_OHE', 'state_OHE', 'browser_OHE', 'os_OHE', 'device_OHE', \n",
    "                                              'roll_advert', 'downgrade', 'upgrade', 'thumbsdown', 'addfriend', 'addtoplaylist'], \n",
    "                                    outputCol='features')\n",
    "\n",
    "# Logistic model\n",
    "lr = LogisticRegression(featuresCol='features', labelCol='label')\n",
    "lr_pipeline = Pipeline(stages=[SI_gender, SI_level, SI_state, SI_browser, SI_os, SI_device, OHE, num_assembler, scaler, feature_assembler, lr])\n",
    "\n",
    "# Random Forest\n",
    "rf = RandomForestClassifier(featuresCol='features', labelCol='label')\n",
    "rf_pipeline = Pipeline(stages=[SI_gender, SI_level, SI_state, SI_browser, SI_os, SI_device, OHE, num_assembler, scaler, feature_assembler, rf])\n",
    "\n",
    "# Gradient.Boosted tree classifier\n",
    "gbt = GBTClassifier(featuresCol='features', labelCol='label')\n",
    "gbt_pieline = Pipeline(stages=[SI_gender, SI_level, SI_state, SI_browser, SI_os, SI_device, OHE, num_assembler, scaler, feature_assembler, gbt])"
   ]
  },
  {
   "cell_type": "markdown",
   "metadata": {},
   "source": [
    "### Step 3. Training and evaluating the model performance"
   ]
  },
  {
   "cell_type": "code",
   "execution_count": 18,
   "metadata": {},
   "outputs": [],
   "source": [
    "# training models \n",
    "lr_model = lr_pipeline.fit(train)\n",
    "rf_model = rf_pipeline.fit(train)\n",
    "gbt_model = gbt_pieline.fit(train)"
   ]
  },
  {
   "cell_type": "code",
   "execution_count": 19,
   "metadata": {},
   "outputs": [],
   "source": [
    "# obtain predictions\n",
    "lr_preds = lr_model.transform(test)\n",
    "rf_preds = rf_model.transform(test)\n",
    "gbt_preds = gbt_model.transform(test)"
   ]
  },
  {
   "cell_type": "markdown",
   "metadata": {},
   "source": [
    "### Step 4. Evaluation (AUC and Accuracy)"
   ]
  },
  {
   "cell_type": "markdown",
   "metadata": {},
   "source": [
    "#### Evaluation with AUC"
   ]
  },
  {
   "cell_type": "code",
   "execution_count": 22,
   "metadata": {},
   "outputs": [],
   "source": [
    "my_eval = BinaryClassificationEvaluator(labelCol = 'label')"
   ]
  },
  {
   "cell_type": "code",
   "execution_count": 24,
   "metadata": {},
   "outputs": [
    {
     "name": "stdout",
     "output_type": "stream",
     "text": [
      "AUC for LogisticRegression is 0.8599395675775529\n"
     ]
    }
   ],
   "source": [
    "print('AUC for Logistic Regression is {}'.format(my_eval.evaluate(lr_preds)))"
   ]
  },
  {
   "cell_type": "code",
   "execution_count": 25,
   "metadata": {},
   "outputs": [
    {
     "name": "stdout",
     "output_type": "stream",
     "text": [
      "AUC for Random Forest is 0.9084217367834391\n"
     ]
    }
   ],
   "source": [
    "print('AUC for Random Forest is {}'.format(my_eval.evaluate(rf_preds)))"
   ]
  },
  {
   "cell_type": "code",
   "execution_count": 27,
   "metadata": {},
   "outputs": [
    {
     "name": "stdout",
     "output_type": "stream",
     "text": [
      "AUC for Grandient Boosted Tree is 0.9928140191724352\n"
     ]
    }
   ],
   "source": [
    "print('AUC for Grandient Boosted Tree is {}'.format(my_eval.evaluate(gbt_preds)))"
   ]
  },
  {
   "cell_type": "markdown",
   "metadata": {},
   "source": [
    "#### Evaluation with accuracy"
   ]
  },
  {
   "cell_type": "code",
   "execution_count": 28,
   "metadata": {},
   "outputs": [
    {
     "name": "stdout",
     "output_type": "stream",
     "text": [
      "89944\n",
      "105513\n"
     ]
    }
   ],
   "source": [
    "print(lr_preds.filter(lr_preds.label == lr_preds.prediction).count())\n",
    "print(lr_preds.count())"
   ]
  },
  {
   "cell_type": "code",
   "execution_count": 52,
   "metadata": {},
   "outputs": [
    {
     "name": "stdout",
     "output_type": "stream",
     "text": [
      "Accuracy for Linear Regression is 0.8524447224512619\n"
     ]
    }
   ],
   "source": [
    "print('Accuracy for Linear Regression is {}'.format(89944/105513))"
   ]
  },
  {
   "cell_type": "code",
   "execution_count": 29,
   "metadata": {},
   "outputs": [
    {
     "name": "stdout",
     "output_type": "stream",
     "text": [
      "88488\n",
      "105513\n"
     ]
    }
   ],
   "source": [
    "print(rf_preds.filter(lr_preds.label == rf_preds.prediction).count())\n",
    "print(rf_preds.count())"
   ]
  },
  {
   "cell_type": "code",
   "execution_count": 54,
   "metadata": {},
   "outputs": [
    {
     "name": "stdout",
     "output_type": "stream",
     "text": [
      "Accuracy for Random Forest is 0.8386454749651702\n"
     ]
    }
   ],
   "source": [
    "print('Accuracy for Random Forest is {}'.format(88488/105513))"
   ]
  },
  {
   "cell_type": "code",
   "execution_count": 30,
   "metadata": {},
   "outputs": [
    {
     "name": "stdout",
     "output_type": "stream",
     "text": [
      "101481\n",
      "105513\n"
     ]
    }
   ],
   "source": [
    "print(gbt_preds.filter(lr_preds.label == gbt_preds.prediction).count())\n",
    "print(gbt_preds.count())"
   ]
  },
  {
   "cell_type": "code",
   "execution_count": 56,
   "metadata": {
    "scrolled": true
   },
   "outputs": [
    {
     "name": "stdout",
     "output_type": "stream",
     "text": [
      "Accuracy for Gradient Boosted Tree is 0.9617866992692844\n"
     ]
    }
   ],
   "source": [
    "print('Accuracy for Gradient Boosted Tree is {}'.format(101481/105513))"
   ]
  },
  {
   "cell_type": "markdown",
   "metadata": {},
   "source": [
    "#### Confusion matrix for the best model"
   ]
  },
  {
   "cell_type": "code",
   "execution_count": 34,
   "metadata": {},
   "outputs": [],
   "source": [
    "## Confusion matrix for gbt\n",
    "y_true = gbt_preds.select(['label']).collect()\n",
    "y_pred = gbt_preds.select(['prediction']).collect()\n",
    "#y_true_series = pd.Series(y_true)\n",
    "#y_pred_series = pd.Series(y_pred)\n",
    "#pd.crosstab(y_true_series, y_pred_series, rownames=['True'], colnames=['Predicted'], margins=True)"
   ]
  },
  {
   "cell_type": "code",
   "execution_count": 36,
   "metadata": {
    "scrolled": true
   },
   "outputs": [
    {
     "name": "stdout",
     "output_type": "stream",
     "text": [
      "              precision    recall  f1-score   support\n",
      "\n",
      "           0       0.96      1.00      0.98     84867\n",
      "           1       1.00      0.81      0.89     20646\n",
      "\n",
      "   micro avg       0.96      0.96      0.96    105513\n",
      "   macro avg       0.98      0.90      0.93    105513\n",
      "weighted avg       0.96      0.96      0.96    105513\n",
      "\n"
     ]
    }
   ],
   "source": [
    "print(classification_report(y_true, y_pred))"
   ]
  },
  {
   "cell_type": "code",
   "execution_count": 87,
   "metadata": {},
   "outputs": [
    {
     "data": {
      "image/png": "[encoded data removed]",
      "text/plain": [
       "<Figure size 432x288 with 2 Axes>"
      ]
     },
     "metadata": {
      "needs_background": "light"
     },
     "output_type": "display_data"
    }
   ],
   "source": [
    "ax = plt.subplot()\n",
    "conf = confusion_matrix(y_true, y_pred)\n",
    "sns.heatmap(conf, annot=True, ax = ax, cmap='Blues', fmt='g')\n",
    "\n",
    "ax.set_xlabel('Predicted labels');\n",
    "ax.set_ylabel('True labels'); \n",
    "ax.set_title('Confusion Matrix'); "
   ]
  },
  {
   "cell_type": "markdown",
   "metadata": {},
   "source": [
    "### Step 5. Code for Hyper Parameter Tuning "
   ]
  },
  {
   "cell_type": "code",
   "execution_count": 25,
   "metadata": {},
   "outputs": [],
   "source": [
    "# Set the Parameters grid\n",
    "gbt_paramGrid = (ParamGridBuilder()\n",
    "                 .addGrid(gbt.maxDepth, [3, 5, 7])  \n",
    "                 .addGrid(gbt.maxBins, [20, 60]) \n",
    "                 .addGrid(gbt.maxIter, [10, 20]) \n",
    "                 .build())\n",
    "\n",
    "gbt_cv = CrossValidator(estimator=gbt_pieline, estimatorParamMaps=gbt_paramGrid, \n",
    "                        evaluator=my_eval, numFolds = 3)"
   ]
  },
  {
   "cell_type": "code",
   "execution_count": 27,
   "metadata": {},
   "outputs": [],
   "source": [
    "cvModel = gbt_cv.fit(train)"
   ]
  },
  {
   "cell_type": "code",
   "execution_count": null,
   "metadata": {},
   "outputs": [],
   "source": [
    "cvResults = cvModel.transform(test)"
   ]
  },
  {
   "cell_type": "code",
   "execution_count": null,
   "metadata": {},
   "outputs": [],
   "source": [
    "print('AUC for Grandient Boosted Tree from Cross Validation is {}'.format(my_eval.evaluate(cvResults)))"
   ]
  },
  {
   "cell_type": "markdown",
   "metadata": {},
   "source": [
    "# Final Steps\n",
    "Clean up your code, adding comments and renaming variables to make the code easier to read and maintain. Refer to the Spark Project Overview page and Data Scientist Capstone Project Rubric to make sure you are including all components of the capstone project and meet all expectations. Remember, this includes thorough documentation in a README file in a Github repository, as well as a web app or blog post."
   ]
  }
 ],
 "metadata": {
  "kernelspec": {
   "display_name": "Python 3",
   "language": "python",
   "name": "python3"
  },
  "language_info": {
   "codemirror_mode": {
    "name": "ipython",
    "version": 3
   },
   "file_extension": ".py",
   "mimetype": "text/x-python",
   "name": "python",
   "nbconvert_exporter": "python",
   "pygments_lexer": "ipython3",
   "version": "3.7.4"
  }
 },
 "nbformat": 4,
 "nbformat_minor": 4
}
